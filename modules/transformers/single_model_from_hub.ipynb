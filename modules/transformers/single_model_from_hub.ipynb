{
 "cells": [
  {
   "cell_type": "code",
   "execution_count": 26,
   "metadata": {},
   "outputs": [
    {
     "name": "stderr",
     "output_type": "stream",
     "text": [
      "/datasets/work/hb-mlaifsp-mm/work/environments/cxrmate/lib/python3.9/site-packages/transformers/models/convnext/feature_extraction_convnext.py:28: FutureWarning: The class ConvNextFeatureExtractor is deprecated and will be removed in version 5 of Transformers. Please use ConvNextImageProcessor instead.\n",
      "  warnings.warn(\n"
     ]
    }
   ],
   "source": [
    "import os, requests, torch, transformers\n",
    "from PIL import Image\n",
    "from torchvision import transforms\n",
    "from io import BytesIO\n",
    "\n",
    "os.environ['TRANSFORMERS_CACHE'] = '/scratch1/nic261/hf_cache'\n",
    "os.environ['HUGGINGFACE_HUB_CACHE'] = '/scratch1/nic261/hf_cache'\n",
    "\n",
    "ckpt_name = 'aehrc/mimic-cxr-report-gen-single'\n",
    "\n",
    "encoder_decoder = transformers.AutoModel.from_pretrained(ckpt_name, trust_remote_code=True)\n",
    "tokenizer = transformers.PreTrainedTokenizerFast.from_pretrained(ckpt_name)\n",
    "image_processor = transformers.AutoFeatureExtractor.from_pretrained(ckpt_name)\n",
    "\n",
    "test_transforms = transforms.Compose(\n",
    "    [\n",
    "        transforms.Resize(size=image_processor.size['shortest_edge']),\n",
    "        transforms.CenterCrop(size=[\n",
    "            image_processor.size['shortest_edge'],\n",
    "            image_processor.size['shortest_edge'],\n",
    "        ]\n",
    "        ),\n",
    "        transforms.ToTensor(),\n",
    "        transforms.Normalize(\n",
    "            mean=image_processor.image_mean,\n",
    "            std=image_processor.image_std,\n",
    "        ),\n",
    "    ]\n",
    ")"
   ]
  },
  {
   "cell_type": "code",
   "execution_count": 27,
   "metadata": {},
   "outputs": [
    {
     "data": {
      "text/plain": [
       "torch.Size([2, 3, 384, 384])"
      ]
     },
     "execution_count": 27,
     "metadata": {},
     "output_type": "execute_result"
    }
   ],
   "source": [
    "url = 'https://www.stritch.luc.edu/lumen/meded/radio/curriculum/IPM/PCM/86a_labelled.jpg'\n",
    "response = requests.get(url)\n",
    "image_a = Image.open(BytesIO(response.content))\n",
    "image_a = image_a.convert('RGB')\n",
    "image_a = test_transforms(image_a)\n",
    "\n",
    "url = 'https://prod-images-static.radiopaedia.org/images/566180/d527ff6fc1482161c9225345c4ab42_big_gallery.jpg'\n",
    "response = requests.get(url)\n",
    "image_b = Image.open(BytesIO(response.content))\n",
    "image_b = image_b.convert('RGB')\n",
    "image_b = test_transforms(image_b)\n",
    "\n",
    "images = torch.stack([image_a, image_b], dim=0)\n",
    "images.shape\n"
   ]
  },
  {
   "cell_type": "code",
   "execution_count": 30,
   "metadata": {},
   "outputs": [],
   "source": [
    "outputs = encoder_decoder.generate(\n",
    "    pixel_values=images,\n",
    "    special_token_ids=[tokenizer.sep_token_id],\n",
    "    bos_token_id=tokenizer.bos_token_id,\n",
    "    eos_token_id=tokenizer.eos_token_id,\n",
    "    pad_token_id=tokenizer.pad_token_id,\n",
    "    return_dict_in_generate=True,\n",
    "    use_cache=True,\n",
    "    max_length=256,\n",
    "    num_beams=4,\n",
    ")\n",
    "\n",
    "findings, impression = encoder_decoder.split_and_decode_sections(\n",
    "    outputs.sequences,\n",
    "    [tokenizer.sep_token_id, tokenizer.eos_token_id],\n",
    "    tokenizer,\n",
    ")"
   ]
  },
  {
   "cell_type": "code",
   "execution_count": 31,
   "metadata": {},
   "outputs": [
    {
     "name": "stdout",
     "output_type": "stream",
     "text": [
      "Findings: There is a moderate left pleural effusion, slightly increased since ___. There is adjacent compressive atelectasis. The right lung is clear. There is no pneumothorax. The heart and mediastinum are within normal limits.\n",
      "Impression: Moderate left pleural effusion, slightly increased since ___.\n",
      "\n",
      "Findings: The patient is status post median sternotomy and mitral valve replacement. The heart is moderately enlarged, and the patient is status post mitral valve replacement. The aorta is tortuous and diffusely calcified. There is mild pulmonary vascular congestion, improved compared to the prior study. Small right pleural effusion is unchanged. No pneumothorax is identified. There are no acute osseous abnormalities.\n",
      "Impression: Mild pulmonary vascular congestion, improved compared to the prior study. Persistent small right pleural effusion.\n",
      "\n"
     ]
    }
   ],
   "source": [
    "for i, j in zip(findings, impression):\n",
    "    print(f'Findings: {i}\\nImpression: {j}\\n')"
   ]
  }
 ],
 "metadata": {
  "kernelspec": {
   "display_name": "cxrmate",
   "language": "python",
   "name": "python3"
  },
  "language_info": {
   "codemirror_mode": {
    "name": "ipython",
    "version": 3
   },
   "file_extension": ".py",
   "mimetype": "text/x-python",
   "name": "python",
   "nbconvert_exporter": "python",
   "pygments_lexer": "ipython3",
   "version": "3.9.4"
  },
  "orig_nbformat": 4
 },
 "nbformat": 4,
 "nbformat_minor": 2
}
