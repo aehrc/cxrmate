{
 "cells": [
  {
   "cell_type": "code",
   "execution_count": 14,
   "metadata": {},
   "outputs": [],
   "source": [
    "from dlhpcstarter.utils import load_config_and_update_args\n",
    "from dlhpcstarter.command_line_arguments import read_command_line_arguments\n",
    "from longitudinal_model.modelling_longitudinal import LongitudinalPromptMultiCXREncoderDecoderModel, CvtWithProjectionHeadConfig\n",
    "import torch\n",
    "import transformers\n",
    "import os\n",
    "import warnings"
   ]
  },
  {
   "cell_type": "code",
   "execution_count": 15,
   "metadata": {},
   "outputs": [
    {
     "data": {
      "text/plain": [
       "('4.31.0', '2.0.1+cu117')"
      ]
     },
     "execution_count": 15,
     "metadata": {},
     "output_type": "execute_result"
    }
   ],
   "source": [
    "transformers.__version__, torch.__version__"
   ]
  },
  {
   "cell_type": "code",
   "execution_count": 16,
   "metadata": {},
   "outputs": [],
   "source": [
    "# Hub checkpoint name:\n",
    "hub_ckpt_name = 'aehrc/cxrmate'"
   ]
  },
  {
   "cell_type": "code",
   "execution_count": 17,
   "metadata": {},
   "outputs": [],
   "source": [
    "# Paths:\n",
    "ckpt_path = '/datasets/work/hb-mlaifsp-mm/work/experiments/mimic_cxr/098_gen_prompt_cxr_bert/trial_1/epoch=0-step=1567-val_report_chexbert_f1_macro=0.413190.ckpt'\n",
    "ckpt_zoo_dir = '/datasets/work/hb-mlaifsp-mm/work/checkpoints'"
   ]
  },
  {
   "cell_type": "code",
   "execution_count": 18,
   "metadata": {},
   "outputs": [],
   "source": [
    "# Load state dict with depreciated keys:\n",
    "state_dict = torch.load(ckpt_path, map_location=torch.device('cpu'))['state_dict']"
   ]
  },
  {
   "cell_type": "code",
   "execution_count": 19,
   "metadata": {},
   "outputs": [
    {
     "name": "stdout",
     "output_type": "stream",
     "text": [
      "trainable params: 147456 || all params: 80916528 || trainable%: 0.18223223814051934\n"
     ]
    }
   ],
   "source": [
    "# Encoder & decoder config:\n",
    "config_decoder = transformers.BertConfig(\n",
    "    vocab_size=30000,\n",
    "    num_hidden_layers=6,\n",
    "    type_vocab_size=2,\n",
    ")  # BERT as it includes token_type_ids.\n",
    "encoder_ckpt_name = 'microsoft/cvt-21-384-22k'\n",
    "config_encoder = CvtWithProjectionHeadConfig.from_pretrained(\n",
    "    os.path.join(ckpt_zoo_dir, encoder_ckpt_name),\n",
    "    local_files_only=True,\n",
    "    projection_size=config_decoder.hidden_size,\n",
    ")\n",
    "config = transformers.VisionEncoderDecoderConfig.from_encoder_decoder_configs(config_encoder, config_decoder)\n",
    "\n",
    "# Encoder-to-decoder instance:\n",
    "LongitudinalPromptMultiCXREncoderDecoderModel.register_for_auto_class(\"AutoModel\")\n",
    "encoder_decoder = LongitudinalPromptMultiCXREncoderDecoderModel(config=config)"
   ]
  },
  {
   "cell_type": "code",
   "execution_count": 20,
   "metadata": {},
   "outputs": [],
   "source": [
    "for key in list(state_dict.keys()):\n",
    "    if 'encoder_projection' in key:\n",
    "        state_dict[key.replace('encoder_projection', 'encoder.projection_head.projection')] = state_dict.pop(key)\n",
    "    elif 'last_hidden_state_layer_norm' in key:\n",
    "        state_dict[key.replace('last_hidden_state_layer_norm', 'encoder.projection_head.layer_norm')] = state_dict.pop(key)\n",
    "    elif 'encoder.encoder' in key:\n",
    "        state_dict[key.replace('encoder.encoder', 'encoder.cvt.encoder')] = state_dict.pop(key)\n",
    "    elif 'encoder_decoder.' in key:\n",
    "        state_dict[key.replace('encoder_decoder.', '')] = state_dict.pop(key)\n",
    "    else:\n",
    "        warnings.warn(f'Key not found: {key}')"
   ]
  },
  {
   "cell_type": "code",
   "execution_count": 21,
   "metadata": {},
   "outputs": [
    {
     "data": {
      "text/plain": [
       "<All keys matched successfully>"
      ]
     },
     "execution_count": 21,
     "metadata": {},
     "output_type": "execute_result"
    }
   ],
   "source": [
    "# Load renamed state dict:\n",
    "encoder_decoder.load_state_dict(state_dict)"
   ]
  },
  {
   "cell_type": "code",
   "execution_count": 22,
   "metadata": {},
   "outputs": [],
   "source": [
    "# Save model:\n",
    "save_path = '/scratch2/nic261/checkpoints/cxrmate/huggingface_cxrmate'\n",
    "encoder_decoder.save_pretrained(save_path)"
   ]
  },
  {
   "cell_type": "code",
   "execution_count": 23,
   "metadata": {},
   "outputs": [],
   "source": [
    "# Load tokenizer:\n",
    "tokenizer_dir = os.path.join(ckpt_zoo_dir, 'mimic-cxr-tokenizers', 'bpe_prompt')\n",
    "tokenizer = transformers.PreTrainedTokenizerFast.from_pretrained(tokenizer_dir, local_files_only=True)"
   ]
  },
  {
   "cell_type": "code",
   "execution_count": 24,
   "metadata": {},
   "outputs": [
    {
     "data": {
      "text/plain": [
       "['/scratch2/nic261/checkpoints/cxrmate/huggingface_cxrmate/preprocessor_config.json']"
      ]
     },
     "execution_count": 24,
     "metadata": {},
     "output_type": "execute_result"
    }
   ],
   "source": [
    "# Image processor:\n",
    "image_processor = transformers.AutoFeatureExtractor.from_pretrained(os.path.join(ckpt_zoo_dir, encoder_ckpt_name))\n",
    "image_processor.save_pretrained(save_path)"
   ]
  },
  {
   "cell_type": "code",
   "execution_count": 25,
   "metadata": {},
   "outputs": [
    {
     "name": "stdout",
     "output_type": "stream",
     "text": [
      "Token will not been saved to git credential helper. Pass `add_to_git_credential=True` if you want to set the git credential as well.\n",
      "Token is valid.\n",
      "Your token has been saved to /home/nic261/.cache/huggingface/token\n",
      "Login successful\n"
     ]
    }
   ],
   "source": [
    "# Hub login:\n",
    "from huggingface_hub import login\n",
    "\n",
    "with open('/home/nic261/hf_token.txt', 'r') as f:\n",
    "    token = f.readline()\n",
    "login(token=token[:-1])\n",
    "del token"
   ]
  },
  {
   "cell_type": "code",
   "execution_count": 26,
   "metadata": {},
   "outputs": [
    {
     "data": {
      "application/vnd.jupyter.widget-view+json": {
       "model_id": "98deb8129e3a4e0aa89b2e53790efa6d",
       "version_major": 2,
       "version_minor": 0
      },
      "text/plain": [
       "Upload 1 LFS files:   0%|          | 0/1 [00:00<?, ?it/s]"
      ]
     },
     "metadata": {},
     "output_type": "display_data"
    },
    {
     "data": {
      "application/vnd.jupyter.widget-view+json": {
       "model_id": "253966bed7144311a5758c45f4d9973d",
       "version_major": 2,
       "version_minor": 0
      },
      "text/plain": [
       "pytorch_model.bin:   0%|          | 0.00/450M [00:00<?, ?B/s]"
      ]
     },
     "metadata": {},
     "output_type": "display_data"
    },
    {
     "data": {
      "text/plain": [
       "CommitInfo(commit_url='https://huggingface.co/aehrc/cxrmate/commit/1f014633b98564f21316b32e167b5796381690d8', commit_message='Upload feature extractor', commit_description='', oid='1f014633b98564f21316b32e167b5796381690d8', pr_url=None, pr_revision=None, pr_num=None)"
      ]
     },
     "execution_count": 26,
     "metadata": {},
     "output_type": "execute_result"
    }
   ],
   "source": [
    "# Push to hub:\n",
    "encoder_decoder.push_to_hub(hub_ckpt_name)\n",
    "tokenizer.push_to_hub(hub_ckpt_name)\n",
    "image_processor.push_to_hub(hub_ckpt_name)"
   ]
  }
 ],
 "metadata": {
  "kernelspec": {
   "display_name": "cxrmate",
   "language": "python",
   "name": "python3"
  },
  "language_info": {
   "codemirror_mode": {
    "name": "ipython",
    "version": 3
   },
   "file_extension": ".py",
   "mimetype": "text/x-python",
   "name": "python",
   "nbconvert_exporter": "python",
   "pygments_lexer": "ipython3",
   "version": "3.9.4"
  },
  "orig_nbformat": 4
 },
 "nbformat": 4,
 "nbformat_minor": 2
}
